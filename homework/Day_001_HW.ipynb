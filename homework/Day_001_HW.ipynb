{
 "cells": [
  {
   "cell_type": "markdown",
   "metadata": {},
   "source": [
    "## 練習時間\n",
    "#### 請寫一個函式用來計算 Mean Square Error\n",
    "$ MSE = \\frac{1}{n}\\sum_{i=1}^{n}{(Y_i - \\hat{Y}_i)^2} $\n",
    "\n",
    "### Hint: [如何取平方](https://googoodesign.gitbooks.io/-ezpython/unit-1.html)"
   ]
  },
  {
   "cell_type": "markdown",
   "metadata": {},
   "source": [
    "# [作業目標]\n",
    "- 仿造範例的MAE函數, 自己寫一個MSE函數(參考上面公式)"
   ]
  },
  {
   "cell_type": "markdown",
   "metadata": {},
   "source": [
    "# [作業重點]\n",
    "- 注意程式的縮排\n",
    "- 是否能將數學公式, 轉換為 Python 的函式組合? (In[2], Out[2])"
   ]
  },
  {
   "cell_type": "code",
   "execution_count": 16,
   "metadata": {
    "collapsed": true
   },
   "outputs": [],
   "source": [
    "# 載入基礎套件與代稱\n",
    "import numpy as np\n",
    "import matplotlib.pyplot as plt"
   ]
  },
  {
   "cell_type": "code",
   "execution_count": 17,
   "metadata": {
    "collapsed": true
   },
   "outputs": [],
   "source": [
    "def mean_absolute_error(y, yp):\n",
    "    \"\"\"\n",
    "    計算 MAE\n",
    "    Args:\n",
    "        - y: 實際值\n",
    "        - yp: 預測值\n",
    "    Return:\n",
    "        - mae: MAE\n",
    "    \"\"\"\n",
    "    mae = MAE = sum(abs(y - yp)) / len(y)\n",
    "    return mae\n",
    "\n",
    "# 定義 mean_squared_error 這個函數, 計算並傳回 MSE\n",
    "def mean_squared_error(y, yp):\n",
    "    \"\"\"\n",
    "    計算 MAE\n",
    "    Args:\n",
    "        - y: 實際值\n",
    "        - yp: 預測值\n",
    "    Return:\n",
    "        - mse: MSE\n",
    "    \"\"\"\n",
    "    mse = MSE = sum((y - yp)**2) / len(y)\n",
    "    return mse"
   ]
  },
  {
   "cell_type": "code",
   "execution_count": 18,
   "metadata": {},
   "outputs": [
    {
     "data": {
      "image/png": "[encoded data removed]",
      "text/plain": [
       "<Figure size 432x288 with 1 Axes>"
      ]
     },
     "metadata": {},
     "output_type": "display_data"
    }
   ],
   "source": [
    "# 與範例相同, 不另外解說\n",
    "w = 3\n",
    "b = 0.5\n",
    "x_lin = np.linspace(0, 100, 101)\n",
    "y = (x_lin + np.random.randn(101) * 5) * w + b\n",
    "\n",
    "plt.plot(x_lin, y, 'b.', label = 'data points')\n",
    "plt.title(\"Assume we have data points\")\n",
    "plt.legend(loc = 2)\n",
    "plt.show()"
   ]
  },
  {
   "cell_type": "code",
   "execution_count": 19,
   "metadata": {},
   "outputs": [
    {
     "data": {
      "image/png": "[encoded data removed]",
      "text/plain": [
       "<Figure size 432x288 with 1 Axes>"
      ]
     },
     "metadata": {},
     "output_type": "display_data"
    }
   ],
   "source": [
    "# 與範例相同, 不另外解說\n",
    "y_hat = x_lin * w + b\n",
    "plt.plot(x_lin, y, 'b.', label = 'data')\n",
    "plt.plot(x_lin, y_hat, 'r-', label = 'prediction')\n",
    "plt.title(\"Assume we have data points (And the prediction)\")\n",
    "plt.legend(loc = 2)\n",
    "plt.show()"
   ]
  },
  {
   "cell_type": "code",
   "execution_count": 20,
   "metadata": {},
   "outputs": [
    {
     "name": "stdout",
     "output_type": "stream",
     "text": [
      "The Mean squared error is 308.881\n",
      "The Mean absolute error is 13.724\n"
     ]
    }
   ],
   "source": [
    "# 執行 Function, 確認有沒有正常執行\n",
    "MSE = mean_squared_error(y, y_hat)\n",
    "MAE = mean_absolute_error(y, y_hat)\n",
    "print(\"The Mean squared error is %.3f\" % (MSE))\n",
    "print(\"The Mean absolute error is %.3f\" % (MAE))"
   ]
  },
  {
   "cell_type": "markdown",
   "metadata": {},
   "source": [
    "# [作業2]\n",
    "\n",
    "請上 Kaggle, 在 Competitions 或 Dataset 中找一組競賽或資料並寫下：\n",
    "    **<br/><font color = blue>A: 選取之資料: https://www.kaggle.com/c/bike-sharing-demand/overview</font><br/>**\n",
    "\n",
    "\n",
    "1. 你選的這組資料為何重要\n",
    "    **<br/><font color = blue>A: 這組資料可以知道在不同的時間(季節、是否是特別假日、是否是工作日)、不同的天氣狀況(溫度、體感溫度、濕度、風速)下，租借腳踏車的數量。 </font>**\n",
    "    **<br/><font color = blue>   利用這些資料，如果可以透過機器學習來準確的預測未來租借腳踏車的可能數量，則租借腳踏車的公司可以準備更多的腳踏車來滿足臨時大量需求，以獲取更多的利益。 </font><br/>**\n",
    "    **<br/><font color = blue>    </font>**\n",
    "    \n",
    "2. 資料從何而來 (tips: 譬如提供者是誰、以什麼方式蒐集)\n",
    "    **<br/><font color = blue>A: This dataset was provided by Hadi Fanaee Tork using data from Capital Bikeshare.</font><br/>**\n",
    "    **<br/><font color = blue>    </font>**\n",
    "     \n",
    "3. 蒐集而來的資料型態為何\n",
    "    **<br/><font color = blue>A: 結構化：數值,表格</font><br/>**\n",
    "    **<br/><font color = blue>    </font>**\n",
    "\n",
    "4. 這組資料想解決的問題如何評估\n",
    "    **<br/><font color = blue>A: 迴歸問題(用這些資料來預測20日~月底的每小時腳踏車租借數量): MAE, RMSE, ...etc</font><br/>**  \n"
   ]
  },
  {
   "cell_type": "markdown",
   "metadata": {},
   "source": [
    "#  [作業3]\n",
    "\n",
    "想像你經營一個自由載客車隊，你希望能透過數據分析以提升業績，請你思考並描述你如何規劃整體的分析/解決方案：\n",
    "\n",
    "1. 核心問題為何 (tips：如何定義 「提升業績 & 你的假設」)\n",
    "    **<br/><font color = blue>紀錄數據分析前與數據分析後的: 每周載客公里數/每周車隊公里數。</font>**\n",
    "    **<br/><font color = blue>若使用數據分析後該值變大，則表示載客率提高，業績提升。</font>**\n",
    "    **<br/><font color = blue>    </font><br/>**\n",
    "    \n",
    "2. 資料從何而來 (tips：哪些資料可能會對你想問的問題產生影響 & 資料如何蒐集)\n",
    "    **<br/><font color = blue>(1) 機場入出境資料: 政府公開資料集。</font>**\n",
    "    **<br/><font color = blue>(2) 醫院掛號資料: 政府公開資料集/醫院資料庫/健保資料集。</font>**\n",
    "    **<br/><font color = blue>(3) 天氣資料: 政府公開資料集/天氣預報。</font>**\n",
    "    **<br/><font color = blue>(4) 路段車流量: 政府公開資料集/google地圖。</font>**\n",
    "    **<br/><font color = blue>(5) 載客歷史資料: 自行結構化紀錄。</font>**\n",
    "    **<br/><font color = blue>    </font><br/>**\n",
    "\n",
    "3. 蒐集而來的資料型態為何\n",
    "    **<br/><font color = blue>A: 結構化的表格資料</font><br/>**\n",
    "    **<br/><font color = blue>    </font>**\n",
    "\n",
    "4. 你要回答的問題，其如何評估 (tips：你的假設如何驗證)\n",
    "    **<br/><font color = blue>(1) 紀錄車隊每周的公里數。</font>**\n",
    "    **<br/><font color = blue>(2) 紀錄車隊每周的載客公里數。</font>**\n",
    "    **<br/><font color = blue>(3) 計算:每周載客公里數/每周車隊公里數。</font>**\n",
    "    **<br/><font color = blue>(4) 觀察該值的變化。</font>**"
   ]
  }
 ],
 "metadata": {
  "anaconda-cloud": {},
  "kernelspec": {
   "display_name": "Python 3",
   "language": "python",
   "name": "python3"
  },
  "language_info": {
   "codemirror_mode": {
    "name": "ipython",
    "version": 3
   },
   "file_extension": ".py",
   "mimetype": "text/x-python",
   "name": "python",
   "nbconvert_exporter": "python",
   "pygments_lexer": "ipython3",
   "version": "3.6.8"
  }
 },
 "nbformat": 4,
 "nbformat_minor": 1
}
