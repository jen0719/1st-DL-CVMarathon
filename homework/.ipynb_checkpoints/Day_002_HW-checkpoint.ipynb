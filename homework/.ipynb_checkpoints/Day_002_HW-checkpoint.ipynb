{
 "cells": [
  {
   "cell_type": "markdown",
   "metadata": {},
   "source": [
    "## [作業目標]\n",
    "了解機器學習適合應用的領域與範疇。"
   ]
  },
  {
   "cell_type": "markdown",
   "metadata": {},
   "source": [
    "## [作業重點]\n",
    "透過瞭解機器學習的運作方式，找出非常適用機器學習應用的領域及其原因"
   ]
  },
  {
   "cell_type": "markdown",
   "metadata": {},
   "source": [
    "## 作業\n",
    "請找出一個你認為機器學習可以發光發熱的領域並闡述原因? "
   ]
  },
  {
   "cell_type": "code",
   "execution_count": null,
   "metadata": {
    "collapsed": true
   },
   "outputs": [],
   "source": [
    "\"\"\"\n",
    "我認為 '醫療領域' 是機器學習可以發光發熱的重要領域，原因如下:\n",
    "\n",
    "1. 資料方面:\n",
    "    '資料'是機器學習最重要的一個部分，若沒有大量的資料，機器學習的效果也會大打折扣。\n",
    "    醫療行業本身就有保存多年且完整的海量數據記錄，因此在 '資料' 取得部分已有先天優勢。\n",
    "\n",
    "2. 應用方面:\n",
    "    (1) 若可利用'資料'的優勢，開發類似傷口影像識別，X光影像識別..等等的APP. 可馬上造福偏遠地區因醫療人力不足而造成的醫療品質問題。\n",
    "    (2) 在醫療上，每一科別有各自的專業看法，若可利用機器學習來彙整各科資料，綜合判斷，可提升醫療的判斷能力。\n",
    "    (3) 中醫的舌苔，脈搏...等等，若能與西醫的資料結合，也許能發展出另一套中西合璧的醫療診斷方式，造福人類。\n",
    "\n",
    "\"\"\""
   ]
  }
 ],
 "metadata": {
  "kernelspec": {
   "display_name": "Python 3",
   "language": "python",
   "name": "python3"
  },
  "language_info": {
   "codemirror_mode": {
    "name": "ipython",
    "version": 3
   },
   "file_extension": ".py",
   "mimetype": "text/x-python",
   "name": "python",
   "nbconvert_exporter": "python",
   "pygments_lexer": "ipython3",
   "version": "3.6.8"
  }
 },
 "nbformat": 4,
 "nbformat_minor": 2
}
